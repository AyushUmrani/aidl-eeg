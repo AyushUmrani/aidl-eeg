{
 "cells": [
  {
   "cell_type": "code",
   "execution_count": 1,
   "metadata": {},
   "outputs": [],
   "source": [
    "import numpy as np\n",
    "import tensorflow as tf\n",
    "\n",
    "import scipy\n",
    "import os\n",
    "from os import listdir\n",
    "from scipy.io import loadmat"
   ]
  },
  {
   "cell_type": "code",
   "execution_count": 2,
   "metadata": {},
   "outputs": [
    {
     "name": "stdout",
     "output_type": "stream",
     "text": [
      "Device mapping:\n",
      "/job:localhost/replica:0/task:0/device:XLA_CPU:0 -> device: XLA_CPU device\n",
      "/job:localhost/replica:0/task:0/device:XLA_GPU:0 -> device: XLA_GPU device\n",
      "/job:localhost/replica:0/task:0/device:GPU:0 -> device: 0, name: GeForce GTX 1070 Ti, pci bus id: 0000:01:00.0, compute capability: 6.1\n",
      "\n",
      "[name: \"/device:CPU:0\"\n",
      "device_type: \"CPU\"\n",
      "memory_limit: 268435456\n",
      "locality {\n",
      "}\n",
      "incarnation: 11950971130930078468\n",
      ", name: \"/device:XLA_CPU:0\"\n",
      "device_type: \"XLA_CPU\"\n",
      "memory_limit: 17179869184\n",
      "locality {\n",
      "}\n",
      "incarnation: 17507853541075786868\n",
      "physical_device_desc: \"device: XLA_CPU device\"\n",
      ", name: \"/device:XLA_GPU:0\"\n",
      "device_type: \"XLA_GPU\"\n",
      "memory_limit: 17179869184\n",
      "locality {\n",
      "}\n",
      "incarnation: 10377517648998148989\n",
      "physical_device_desc: \"device: XLA_GPU device\"\n",
      ", name: \"/device:GPU:0\"\n",
      "device_type: \"GPU\"\n",
      "memory_limit: 7009469728\n",
      "locality {\n",
      "  bus_id: 1\n",
      "  links {\n",
      "  }\n",
      "}\n",
      "incarnation: 4405632696673838299\n",
      "physical_device_desc: \"device: 0, name: GeForce GTX 1070 Ti, pci bus id: 0000:01:00.0, compute capability: 6.1\"\n",
      "]\n"
     ]
    }
   ],
   "source": [
    "from tensorflow.python.client import device_lib\n",
    "\n",
    "\n",
    "from tensorflow.compat.v1.keras.backend import set_session\n",
    "\n",
    "config = tf.compat.v1.ConfigProto()\n",
    "\n",
    "config.gpu_options.allow_growth = True  # dynamically grow the memory used on the GPU\n",
    "\n",
    "config.log_device_placement = True  # to log device placement (on which device the operation ran)\n",
    "\n",
    "sess = tf.compat.v1.Session(config=config)\n",
    "\n",
    "set_session(sess)\n",
    "print(device_lib.list_local_devices())\n"
   ]
  },
  {
   "cell_type": "code",
   "execution_count": 3,
   "metadata": {},
   "outputs": [
    {
     "name": "stdout",
     "output_type": "stream",
     "text": [
      "['./data/eeg_feature_smooth/1/', './data/eeg_feature_smooth/2/', './data/eeg_feature_smooth/3/']\n"
     ]
    }
   ],
   "source": [
    "directory = \"./data/eeg_feature_smooth/1/\"\n",
    "directories = [\"./data/eeg_feature_smooth/{}/\".format(i+1) for i in range(3)] \n",
    "print(directories)\n"
   ]
  },
  {
   "cell_type": "code",
   "execution_count": 4,
   "metadata": {},
   "outputs": [
    {
     "name": "stdout",
     "output_type": "stream",
     "text": [
      "./data/eeg_feature_smooth/1/\n",
      "./data/eeg_feature_smooth/2/\n",
      "./data/eeg_feature_smooth/3/\n",
      "(3, 15, 24, 4, 62, 5, 64)\n"
     ]
    }
   ],
   "source": [
    "n = 24\n",
    "perSample = ['de_movingAve', 'de_LDS', 'psd_movingAve', 'psd_LDS']\n",
    "array = np.zeros(shape=(len(directories),len(os.listdir(directories[0])), n, 4, 62, 5, 64)) # features = 4*62*5*64 (zero padded) // trials = (3 sessions) x 15 people x 24 labels \n",
    "li = []\n",
    "for h, dire in enumerate(directories):\n",
    "    print(dire)\n",
    "    data = [loadmat(dire + file) for file in os.listdir(dire)]\n",
    "    for i, bigsample in enumerate(data):\n",
    "        for j in range(n):\n",
    "            for k, key in enumerate(perSample):\n",
    "                sample = np.transpose(np.array(bigsample[key + str(j+1)]), (0,2,1))\n",
    "                #print(sample.shape)\n",
    "                sample = np.pad(sample, [(0,0), (0,0), (0, 64-sample.shape[2])])\n",
    "                #print(sample.shape)\n",
    "                array[h][i][j][k] = sample\n",
    "\n",
    "print(array.shape)\n",
    "\n"
   ]
  },
  {
   "cell_type": "code",
   "execution_count": 5,
   "metadata": {},
   "outputs": [],
   "source": [
    "_X = array.reshape(np.prod(array.shape[0:3]), *array.shape[3:])"
   ]
  },
  {
   "cell_type": "code",
   "execution_count": 6,
   "metadata": {},
   "outputs": [
    {
     "data": {
      "text/plain": [
       "(1080, 4, 62, 5, 64)"
      ]
     },
     "execution_count": 6,
     "metadata": {},
     "output_type": "execute_result"
    }
   ],
   "source": [
    "_X.shape"
   ]
  },
  {
   "cell_type": "code",
   "execution_count": 7,
   "metadata": {},
   "outputs": [
    {
     "data": {
      "text/plain": [
       "(1080,)"
      ]
     },
     "execution_count": 7,
     "metadata": {},
     "output_type": "execute_result"
    }
   ],
   "source": [
    "session1_label = [1,2,3,0,2,0,0,1,0,1,2,1,1,1,2,3,2,2,3,3,0,3,0,3]\n",
    "session2_label = [2,1,3,0,0,2,0,2,3,3,2,3,2,0,1,1,2,1,0,3,0,1,3,1]\n",
    "session3_label = [1,2,2,1,3,3,3,1,1,2,1,0,2,3,3,0,2,3,0,0,2,0,1,0]\n",
    "labels = {0: 'neutral', 1: 'sad', 2: 'fear', 3: 'happy'}\n",
    "\n",
    "y = np.array(session1_label * 15 + session2_label * 15 + session3_label * 15)\n",
    "y.shape"
   ]
  },
  {
   "cell_type": "code",
   "execution_count": 8,
   "metadata": {},
   "outputs": [
    {
     "name": "stdout",
     "output_type": "stream",
     "text": [
      "(1080, 64, 4, 62, 5)\n"
     ]
    }
   ],
   "source": [
    "X = _X.transpose(0, 4, 1, 2,3)\n",
    "print(X.shape)\n",
    "X = X.reshape(X.shape[0], X.shape[1], np.prod(X.shape[2:]))\n",
    "X.shape\n",
    "\n",
    "from sklearn.model_selection import train_test_split \n",
    "\n",
    "X_train, X_test, y_train, y_test = train_test_split(\n",
    "    X, y, test_size=0.2, random_state=42)"
   ]
  },
  {
   "cell_type": "code",
   "execution_count": 9,
   "metadata": {},
   "outputs": [],
   "source": [
    "model = tf.keras.Sequential([\n",
    "    tf.keras.layers.Conv1D(\n",
    "32, 3, activation='relu',input_shape=X.shape[1:]),\n",
    "    tf.keras.layers.Flatten(),\n",
    "    tf.keras.layers.Dense(128, activation='relu'),\n",
    "    tf.keras.layers.Dense(10)\n",
    "])"
   ]
  },
  {
   "cell_type": "code",
   "execution_count": 10,
   "metadata": {},
   "outputs": [
    {
     "name": "stdout",
     "output_type": "stream",
     "text": [
      "Model: \"sequential\"\n",
      "_________________________________________________________________\n",
      "Layer (type)                 Output Shape              Param #   \n",
      "=================================================================\n",
      "conv1d (Conv1D)              (None, 62, 32)            119072    \n",
      "_________________________________________________________________\n",
      "flatten (Flatten)            (None, 1984)              0         \n",
      "_________________________________________________________________\n",
      "dense (Dense)                (None, 128)               254080    \n",
      "_________________________________________________________________\n",
      "dense_1 (Dense)              (None, 10)                1290      \n",
      "=================================================================\n",
      "Total params: 374,442\n",
      "Trainable params: 374,442\n",
      "Non-trainable params: 0\n",
      "_________________________________________________________________\n",
      "None\n"
     ]
    }
   ],
   "source": [
    "model.compile(optimizer='adam',\n",
    "              loss=tf.keras.losses.SparseCategoricalCrossentropy(from_logits=True),\n",
    "              metrics=['accuracy'])\n",
    "print(model.summary())"
   ]
  },
  {
   "cell_type": "code",
   "execution_count": 11,
   "metadata": {},
   "outputs": [
    {
     "name": "stdout",
     "output_type": "stream",
     "text": [
      "Epoch 1/30\n",
      "27/27 [==============================] - 0s 11ms/step - loss: 135596096.0000 - accuracy: 0.3067\n",
      "Epoch 2/30\n",
      "27/27 [==============================] - 0s 10ms/step - loss: 22624178.0000 - accuracy: 0.3542\n",
      "Epoch 3/30\n",
      "27/27 [==============================] - 0s 10ms/step - loss: 7586141.5000 - accuracy: 0.3970\n",
      "Epoch 4/30\n",
      "27/27 [==============================] - 0s 11ms/step - loss: 7537087.5000 - accuracy: 0.4630\n",
      "Epoch 5/30\n",
      "27/27 [==============================] - 0s 10ms/step - loss: 9022904.0000 - accuracy: 0.4502\n",
      "Epoch 6/30\n",
      "27/27 [==============================] - 0s 10ms/step - loss: 392054.4688 - accuracy: 0.5255\n",
      "Epoch 7/30\n",
      "27/27 [==============================] - 0s 9ms/step - loss: 304305.6250 - accuracy: 0.6181\n",
      "Epoch 8/30\n",
      "27/27 [==============================] - 0s 9ms/step - loss: 103144.3594 - accuracy: 0.6748\n",
      "Epoch 9/30\n",
      "27/27 [==============================] - 0s 10ms/step - loss: 148238.5312 - accuracy: 0.7002\n",
      "Epoch 10/30\n",
      "27/27 [==============================] - 0s 10ms/step - loss: 57375.3438 - accuracy: 0.7245\n",
      "Epoch 11/30\n",
      "27/27 [==============================] - 0s 9ms/step - loss: 102024.9609 - accuracy: 0.7245\n",
      "Epoch 12/30\n",
      "27/27 [==============================] - 0s 10ms/step - loss: 49138.4062 - accuracy: 0.7396\n",
      "Epoch 13/30\n",
      "27/27 [==============================] - 0s 9ms/step - loss: 46450.9414 - accuracy: 0.7350\n",
      "Epoch 14/30\n",
      "27/27 [==============================] - 0s 10ms/step - loss: 38029.5586 - accuracy: 0.7627\n",
      "Epoch 15/30\n",
      "27/27 [==============================] - 0s 9ms/step - loss: 32791.8359 - accuracy: 0.7639\n",
      "Epoch 16/30\n",
      "27/27 [==============================] - 0s 9ms/step - loss: 27955.1738 - accuracy: 0.7778\n",
      "Epoch 17/30\n",
      "27/27 [==============================] - 0s 9ms/step - loss: 25872.7949 - accuracy: 0.7755\n",
      "Epoch 18/30\n",
      "27/27 [==============================] - 0s 10ms/step - loss: 23649.9531 - accuracy: 0.7755\n",
      "Epoch 19/30\n",
      "27/27 [==============================] - 0s 10ms/step - loss: 21071.4395 - accuracy: 0.7870\n",
      "Epoch 20/30\n",
      "27/27 [==============================] - 0s 10ms/step - loss: 21547.4785 - accuracy: 0.7801\n",
      "Epoch 21/30\n",
      "27/27 [==============================] - 0s 9ms/step - loss: 22115.0762 - accuracy: 0.7604\n",
      "Epoch 22/30\n",
      "27/27 [==============================] - 0s 9ms/step - loss: 44522.1562 - accuracy: 0.7789\n",
      "Epoch 23/30\n",
      "27/27 [==============================] - 0s 10ms/step - loss: 26167.1465 - accuracy: 0.7801\n",
      "Epoch 24/30\n",
      "27/27 [==============================] - 0s 9ms/step - loss: 19737.1523 - accuracy: 0.7940\n",
      "Epoch 25/30\n",
      "27/27 [==============================] - 0s 10ms/step - loss: 17535.1582 - accuracy: 0.7963\n",
      "Epoch 26/30\n",
      "27/27 [==============================] - 0s 9ms/step - loss: 15267.3311 - accuracy: 0.8044\n",
      "Epoch 27/30\n",
      "27/27 [==============================] - 0s 10ms/step - loss: 14830.1934 - accuracy: 0.7940\n",
      "Epoch 28/30\n",
      "27/27 [==============================] - 0s 10ms/step - loss: 12619.6572 - accuracy: 0.8171\n",
      "Epoch 29/30\n",
      "27/27 [==============================] - 0s 11ms/step - loss: 11802.6504 - accuracy: 0.8218\n",
      "Epoch 30/30\n",
      "27/27 [==============================] - 0s 11ms/step - loss: 10971.0986 - accuracy: 0.8090\n"
     ]
    },
    {
     "data": {
      "text/plain": [
       "<tensorflow.python.keras.callbacks.History at 0x7f18881c1240>"
      ]
     },
     "execution_count": 11,
     "metadata": {},
     "output_type": "execute_result"
    }
   ],
   "source": [
    "model.fit(X_train, y_train,epochs=30)"
   ]
  },
  {
   "cell_type": "code",
   "execution_count": 12,
   "metadata": {},
   "outputs": [
    {
     "name": "stdout",
     "output_type": "stream",
     "text": [
      "7/7 - 0s - loss: 56648256.0000 - accuracy: 0.7269\n",
      "\n",
      "Test accuracy: 0.7268518805503845\n"
     ]
    }
   ],
   "source": [
    "test_loss, test_acc = model.evaluate(X_test,  y_test, verbose=2)\n",
    "\n",
    "print('\\nTest accuracy:', test_acc)"
   ]
  },
  {
   "cell_type": "code",
   "execution_count": null,
   "metadata": {},
   "outputs": [],
   "source": []
  }
 ],
 "metadata": {
  "kernelspec": {
   "display_name": "Python 3",
   "language": "python",
   "name": "python3"
  },
  "language_info": {
   "codemirror_mode": {
    "name": "ipython",
    "version": 3
   },
   "file_extension": ".py",
   "mimetype": "text/x-python",
   "name": "python",
   "nbconvert_exporter": "python",
   "pygments_lexer": "ipython3",
   "version": "3.6.9"
  }
 },
 "nbformat": 4,
 "nbformat_minor": 4
}
